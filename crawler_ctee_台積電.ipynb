{
 "cells": [
  {
   "cell_type": "markdown",
   "metadata": {},
   "source": [
    "# 爬蟲：工商時報\n",
    "\n",
    "- 讀取檔案 (google_search_result_list_TMC.csv)\n",
    "- 抓取文章內容\n",
    "- 取出日期,標題,內文"
   ]
  },
  {
   "cell_type": "code",
   "execution_count": null,
   "metadata": {},
   "outputs": [],
   "source": [
    "import requests\n",
    "import time\n",
    "from bs4 import BeautifulSoup"
   ]
  },
  {
   "cell_type": "code",
   "execution_count": null,
   "metadata": {},
   "outputs": [],
   "source": [
    "def get_news_date(soup):\n",
    "    news_date = '' \n",
    "    node = soup.find(class_=\"post-published updated\")\n",
    "    if (node == None):\n",
    "        node = soup.find(class_=\"post-meta-date\")\n",
    "    if (node != None):\n",
    "        news_date = node.text.strip()\n",
    "        if ' ' in news_date:\n",
    "            news_date = news_date.split(' ')[0]\n",
    "    else:\n",
    "        print('no date')\n",
    "    return news_date"
   ]
  },
  {
   "cell_type": "code",
   "execution_count": null,
   "metadata": {},
   "outputs": [],
   "source": [
    "def get_news_title(soup):\n",
    "    node = soup.find('title')\n",
    "    if node != None:\n",
    "        return node.text.strip()\n",
    "    else:\n",
    "        print('no title')\n",
    "        return('')"
   ]
  },
  {
   "cell_type": "code",
   "execution_count": null,
   "metadata": {},
   "outputs": [],
   "source": [
    "def get_news_body(soup):\n",
    "    body = '';\n",
    "    node = soup.find(class_='entry-content clearfix single-post-content')\n",
    "    if node == None:\n",
    "        node = soup.find(class_='entry-content')\n",
    "    if node != None:\n",
    "        p_list = node.find_all('p')\n",
    "        for p in p_list:\n",
    "            body = body + p.text.strip()\n",
    "    else:\n",
    "        print('no content')\n",
    "    return body"
   ]
  },
  {
   "cell_type": "code",
   "execution_count": null,
   "metadata": {},
   "outputs": [],
   "source": [
    "def fetch_page(url):\n",
    "    r = None\n",
    "    try:\n",
    "        r = requests.get(url,timeout=3)\n",
    "    except requests.exceptions.RequestException as e:\n",
    "        print(e)\n",
    "    if r.status_code == requests.codes.ok:\n",
    "        #r.encoding = \"UTF-8\"\n",
    "        soup = BeautifulSoup(r.text, 'html.parser')\n",
    "        #print(soup.prettify())\n",
    "        news_date = get_news_date(soup)\n",
    "        news_title = get_news_title(soup)\n",
    "        news_body = get_news_body(soup)\n",
    "        return(news_date,news_title,news_body)\n",
    "    else :\n",
    "        print(r.status_code)"
   ]
  },
  {
   "cell_type": "code",
   "execution_count": null,
   "metadata": {},
   "outputs": [],
   "source": [
    "with open('./google_search_result_list_TSMC.csv', 'r') as f:\n",
    "    lines = f.readlines()\n",
    "print(len(lines))"
   ]
  },
  {
   "cell_type": "code",
   "execution_count": null,
   "metadata": {},
   "outputs": [],
   "source": [
    "c = 0\n",
    "for line in lines:\n",
    "    c = c + 1\n",
    "    print(c)\n",
    "    time.sleep(1)\n",
    "    \n",
    "    url = line.strip()\n",
    "    data = fetch_page(url)\n",
    "    if data != None:\n",
    "        (news_date,news_title,news_body) = data\n",
    "        filename = news_date.strip()\n",
    "        filename = filename.replace('.','_')\n",
    "        filename = filename.replace('/','_')\n",
    "        filepath = './ctee_TSMC/tmc_' + filename + '.csv'\n",
    "        with open(filepath,'w') as f:\n",
    "            f.write(url + '\\n')\n",
    "            f.write(news_date + '\\n')\n",
    "            f.write(news_title + '\\n')\n",
    "            f.write(news_body + '\\n')\n",
    "    else:\n",
    "        print('return is None')\n",
    "print('Done')"
   ]
  },
  {
   "cell_type": "code",
   "execution_count": null,
   "metadata": {},
   "outputs": [],
   "source": []
  }
 ],
 "metadata": {
  "kernelspec": {
   "display_name": "Python 3",
   "language": "python",
   "name": "python3"
  },
  "language_info": {
   "codemirror_mode": {
    "name": "ipython",
    "version": 3
   },
   "file_extension": ".py",
   "mimetype": "text/x-python",
   "name": "python",
   "nbconvert_exporter": "python",
   "pygments_lexer": "ipython3",
   "version": "3.7.1"
  }
 },
 "nbformat": 4,
 "nbformat_minor": 2
}
