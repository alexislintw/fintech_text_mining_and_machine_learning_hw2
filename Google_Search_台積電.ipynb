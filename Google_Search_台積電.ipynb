{
 "cells": [
  {
   "cell_type": "markdown",
   "metadata": {},
   "source": [
    "# 爬蟲：Google Search\n",
    "\n",
    "- 以Google Search Engine搜尋\n",
    "- 以'台積電'為關鍵字，在工商時報 (https://ctee.com.tw)做站內搜尋\n",
    "- 取回搜尋結果的連結的清單\n",
    "- 存在檔案中 (google_search_result_list_TMC.csv)"
   ]
  },
  {
   "cell_type": "code",
   "execution_count": 1,
   "metadata": {},
   "outputs": [],
   "source": [
    "import requests\n",
    "import time\n",
    "import random\n",
    "from bs4 import BeautifulSoup"
   ]
  },
  {
   "cell_type": "code",
   "execution_count": 2,
   "metadata": {},
   "outputs": [],
   "source": [
    "def get_next_search_result_url(soup):\n",
    "    nodes = soup.find_all(class_=\"fl\")\n",
    "    for n in nodes:\n",
    "        if (n.getText() == '下一頁'):\n",
    "            url = \"https://www.google.com\" + n.get('href')\n",
    "            #print(url)\n",
    "            return url"
   ]
  },
  {
   "cell_type": "code",
   "execution_count": 3,
   "metadata": {},
   "outputs": [],
   "source": [
    "def get_search_result_list(soup):\n",
    "    result_list = []\n",
    "    nodes = soup.select('div.g > h3.r > a[href^=\"/url\"]')\n",
    "    for n in nodes:\n",
    "        title = n.text\n",
    "        url_string = n.get('href').replace('url?','')\n",
    "        q_string = url_string.split('&')[0]\n",
    "        url = q_string.split('=')[1]\n",
    "        #print(url)\n",
    "        #result_list.append((title,url))\n",
    "        result_list.append(url)\n",
    "    return result_list"
   ]
  },
  {
   "cell_type": "code",
   "execution_count": 4,
   "metadata": {},
   "outputs": [],
   "source": [
    "def do_search(url):\n",
    "    global all_list, page_num\n",
    "    r = requests.get(url)\n",
    "    if r.status_code == requests.codes.ok:\n",
    "        #r.encoding = \"UTF-8\"\n",
    "        soup = BeautifulSoup(r.text, 'html.parser')\n",
    "        next_url = get_next_search_result_url(soup)\n",
    "        print('--')\n",
    "        print(next_url)\n",
    "        search_result_list = get_search_result_list(soup)\n",
    "        all_list = all_list + search_result_list\n",
    "        page_num = page_num + 1\n",
    "        if (page_num < 100 and next_url != None) :\n",
    "            time.sleep(1)\n",
    "            do_search(next_url)\n",
    "    else :\n",
    "        print(r.status_code)"
   ]
  },
  {
   "cell_type": "code",
   "execution_count": 6,
   "metadata": {
    "scrolled": true
   },
   "outputs": [
    {
     "name": "stdout",
     "output_type": "stream",
     "text": [
      "--\n",
      "https://www.google.com/search?q=site://ctee.com.tw+%E5%8F%B0%E7%A9%8D%E9%9B%BB&ie=UTF-8&prmd=ivns&ei=hUisXKD3Cp7C5OUPgaS-2AQ&start=10&sa=N\n",
      "--\n",
      "https://www.google.com/search?q=site://ctee.com.tw+%E5%8F%B0%E7%A9%8D%E9%9B%BB&ie=UTF-8&prmd=ivns&ei=hkisXPPcO4Pj8APi1LuoAQ&start=20&sa=N\n",
      "--\n",
      "https://www.google.com/search?q=site://ctee.com.tw+%E5%8F%B0%E7%A9%8D%E9%9B%BB&ie=UTF-8&prmd=ivns&ei=iEisXNWoI_2Dk-4PrcuzyAQ&start=30&sa=N\n",
      "--\n",
      "https://www.google.com/search?q=site://ctee.com.tw+%E5%8F%B0%E7%A9%8D%E9%9B%BB&ie=UTF-8&prmd=ivns&ei=ikisXImlCsnl0gLq8q6wBg&start=40&sa=N\n",
      "--\n",
      "https://www.google.com/search?q=site://ctee.com.tw+%E5%8F%B0%E7%A9%8D%E9%9B%BB&ie=UTF-8&prmd=ivns&ei=i0isXNSaNYuE8AO66ZjoAw&start=50&sa=N\n",
      "--\n",
      "https://www.google.com/search?q=site://ctee.com.tw+%E5%8F%B0%E7%A9%8D%E9%9B%BB&ie=UTF-8&prmd=ivns&ei=jUisXJKxG-Pk8APP8oaoDg&start=60&sa=N\n",
      "--\n",
      "https://www.google.com/search?q=site://ctee.com.tw+%E5%8F%B0%E7%A9%8D%E9%9B%BB&ie=UTF-8&prmd=ivns&ei=j0isXI27JeaC0wL9l4OwAg&start=70&sa=N\n",
      "--\n",
      "https://www.google.com/search?q=site://ctee.com.tw+%E5%8F%B0%E7%A9%8D%E9%9B%BB&ie=UTF-8&prmd=ivns&ei=kUisXIagDvCBk-4Pm5yR4Aw&start=80&sa=N\n",
      "--\n",
      "https://www.google.com/search?q=site://ctee.com.tw+%E5%8F%B0%E7%A9%8D%E9%9B%BB&ie=UTF-8&prmd=ivns&ei=kkisXMDIMqPZ0gKJmZSwBQ&start=90&sa=N\n",
      "--\n",
      "https://www.google.com/search?q=site://ctee.com.tw+%E5%8F%B0%E7%A9%8D%E9%9B%BB&ie=UTF-8&prmd=ivns&ei=lEisXLnAL6iV0gLWg5PoAQ&start=100&sa=N\n",
      "--\n",
      "https://www.google.com/search?q=site://ctee.com.tw+%E5%8F%B0%E7%A9%8D%E9%9B%BB&ie=UTF-8&prmd=ivns&ei=lkisXKXIGIPZ8APKlpzIAg&start=110&sa=N\n",
      "--\n",
      "https://www.google.com/search?q=site://ctee.com.tw+%E5%8F%B0%E7%A9%8D%E9%9B%BB&ie=UTF-8&prmd=ivns&ei=mEisXI3yCoWh_wTWqrrwCg&start=120&sa=N\n",
      "--\n",
      "https://www.google.com/search?q=site://ctee.com.tw+%E5%8F%B0%E7%A9%8D%E9%9B%BB&ie=UTF-8&prmd=ivns&ei=mUisXO39NMrC0wL5-beADw&start=130&sa=N\n",
      "--\n",
      "https://www.google.com/search?q=site://ctee.com.tw+%E5%8F%B0%E7%A9%8D%E9%9B%BB&ie=UTF-8&prmd=ivns&ei=m0isXM2FI6eJ0gKv2ZqoBw&start=140&sa=N\n",
      "--\n",
      "https://www.google.com/search?q=site://ctee.com.tw+%E5%8F%B0%E7%A9%8D%E9%9B%BB&ie=UTF-8&prmd=ivns&ei=nUisXKn3GKud0gKF5LbgDg&start=150&sa=N\n",
      "--\n",
      "https://www.google.com/search?q=site://ctee.com.tw+%E5%8F%B0%E7%A9%8D%E9%9B%BB&ie=UTF-8&prmd=ivns&ei=n0isXOKwEMKd0gLqkqjgAQ&start=160&sa=N\n",
      "--\n",
      "https://www.google.com/search?q=site://ctee.com.tw+%E5%8F%B0%E7%A9%8D%E9%9B%BB&ie=UTF-8&prmd=ivns&ei=oUisXPKiA-OAk-4PyYymoA8&start=170&sa=N\n",
      "--\n",
      "https://www.google.com/search?q=site://ctee.com.tw+%E5%8F%B0%E7%A9%8D%E9%9B%BB&ie=UTF-8&prmd=ivns&ei=okisXPaIN8mN0wKCqZHAAw&start=180&sa=N\n",
      "--\n",
      "https://www.google.com/search?q=site://ctee.com.tw+%E5%8F%B0%E7%A9%8D%E9%9B%BB&ie=UTF-8&prmd=ivns&ei=pEisXLXzLuOO0gL2wpEY&start=190&sa=N\n",
      "--\n",
      "https://www.google.com/search?q=site://ctee.com.tw+%E5%8F%B0%E7%A9%8D%E9%9B%BB&ie=UTF-8&prmd=ivns&ei=pkisXOn8NOiJ0wK6la7wCA&start=200&sa=N\n",
      "--\n",
      "https://www.google.com/search?q=site://ctee.com.tw+%E5%8F%B0%E7%A9%8D%E9%9B%BB&ie=UTF-8&prmd=ivns&ei=qUisXKm4Aare0gK-wKWYDA&start=210&sa=N\n",
      "--\n",
      "https://www.google.com/search?q=site://ctee.com.tw+%E5%8F%B0%E7%A9%8D%E9%9B%BB&ie=UTF-8&prmd=ivns&ei=q0isXI_yFYaV8APh1bqACQ&start=220&sa=N\n",
      "--\n",
      "https://www.google.com/search?q=site://ctee.com.tw+%E5%8F%B0%E7%A9%8D%E9%9B%BB&ie=UTF-8&prmd=ivns&ei=rUisXOanBtKDk-4Py_S90A0&start=230&sa=N\n",
      "--\n",
      "https://www.google.com/search?q=site://ctee.com.tw+%E5%8F%B0%E7%A9%8D%E9%9B%BB&ie=UTF-8&prmd=ivns&ei=r0isXOyFAoGg8AOpv5rADQ&start=240&sa=N\n",
      "--\n",
      "https://www.google.com/search?q=site://ctee.com.tw+%E5%8F%B0%E7%A9%8D%E9%9B%BB&ie=UTF-8&prmd=ivns&ei=sUisXIOiA-fc0gKYg7XABw&start=250&sa=N\n",
      "--\n",
      "https://www.google.com/search?q=site://ctee.com.tw+%E5%8F%B0%E7%A9%8D%E9%9B%BB&ie=UTF-8&prmd=ivns&ei=skisXJHuNueb0gK69oHICw&start=260&sa=N\n",
      "--\n",
      "https://www.google.com/search?q=site://ctee.com.tw+%E5%8F%B0%E7%A9%8D%E9%9B%BB&ie=UTF-8&prmd=ivns&ei=tEisXIiKMdLJ_wS28qbIAQ&start=270&sa=N\n",
      "--\n",
      "https://www.google.com/search?q=site://ctee.com.tw+%E5%8F%B0%E7%A9%8D%E9%9B%BB&ie=UTF-8&prmd=ivns&ei=tkisXKf2I9HC0wL4rqeIBA&start=280&sa=N\n",
      "--\n",
      "https://www.google.com/search?q=site://ctee.com.tw+%E5%8F%B0%E7%A9%8D%E9%9B%BB&ie=UTF-8&prmd=ivns&ei=uEisXK-7IYqG0wL0jYT4Cw&start=290&sa=N\n",
      "--\n",
      "https://www.google.com/search?q=site://ctee.com.tw+%E5%8F%B0%E7%A9%8D%E9%9B%BB&ie=UTF-8&prmd=ivns&ei=ukisXK7VI6mS0gKIo7zYBg&start=300&sa=N\n",
      "--\n",
      "https://www.google.com/search?q=site://ctee.com.tw+%E5%8F%B0%E7%A9%8D%E9%9B%BB&ie=UTF-8&prmd=ivns&ei=vEisXOivLcOT0gKv87iYDA&start=310&sa=N\n",
      "--\n",
      "https://www.google.com/search?q=site://ctee.com.tw+%E5%8F%B0%E7%A9%8D%E9%9B%BB&ie=UTF-8&prmd=ivns&ei=vkisXOfWIo3w_wST6ZTYCA&start=320&sa=N\n",
      "--\n",
      "https://www.google.com/search?q=site://ctee.com.tw+%E5%8F%B0%E7%A9%8D%E9%9B%BB&ie=UTF-8&prmd=ivns&ei=wEisXKe2H4ac0gLlvK64Aw&start=330&sa=N\n",
      "--\n",
      "https://www.google.com/search?q=site://ctee.com.tw+%E5%8F%B0%E7%A9%8D%E9%9B%BB&ie=UTF-8&prmd=ivns&ei=w0isXIxFxs3_BM-qqNAB&start=340&sa=N\n",
      "--\n",
      "None\n"
     ]
    }
   ],
   "source": [
    "all_list = []\n",
    "page_num = 0\n",
    "\n",
    "google_url = 'https://www.google.com.tw/search?q=site://ctee.com.tw 台積電'\n",
    "do_search(google_url)"
   ]
  },
  {
   "cell_type": "code",
   "execution_count": 7,
   "metadata": {},
   "outputs": [
    {
     "name": "stdout",
     "output_type": "stream",
     "text": [
      "341\n"
     ]
    }
   ],
   "source": [
    "print(len(all_list))"
   ]
  },
  {
   "cell_type": "code",
   "execution_count": 9,
   "metadata": {},
   "outputs": [],
   "source": [
    "with open('./google_search_result_list_TSMC.csv', 'w') as f:\n",
    "    for item in all_list:\n",
    "        f.write(item + '\\n')"
   ]
  },
  {
   "cell_type": "code",
   "execution_count": null,
   "metadata": {},
   "outputs": [],
   "source": []
  }
 ],
 "metadata": {
  "kernelspec": {
   "display_name": "Python 3",
   "language": "python",
   "name": "python3"
  },
  "language_info": {
   "codemirror_mode": {
    "name": "ipython",
    "version": 3
   },
   "file_extension": ".py",
   "mimetype": "text/x-python",
   "name": "python",
   "nbconvert_exporter": "python",
   "pygments_lexer": "ipython3",
   "version": "3.7.1"
  }
 },
 "nbformat": 4,
 "nbformat_minor": 2
}
