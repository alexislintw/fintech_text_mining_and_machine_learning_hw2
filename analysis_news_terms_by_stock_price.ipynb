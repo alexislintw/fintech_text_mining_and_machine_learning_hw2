{
 "cells": [
  {
   "cell_type": "markdown",
   "metadata": {},
   "source": [
    "# 分析新聞詞彙與股價變動的關係\n",
    "\n",
    "- 以股價漲跌區分新聞中的高頻詞\n",
    "- 20161207 ~20180123期間的工商時報新聞"
   ]
  },
  {
   "cell_type": "code",
   "execution_count": 1,
   "metadata": {},
   "outputs": [],
   "source": [
    "import numpy as np\n",
    "import pandas as pd\n",
    "import matplotlib.pyplot as plt\n",
    "import json\n",
    "import os\n",
    "from collections import Counter"
   ]
  },
  {
   "cell_type": "markdown",
   "metadata": {},
   "source": [
    "### 計算股價漲跌率"
   ]
  },
  {
   "cell_type": "code",
   "execution_count": 2,
   "metadata": {},
   "outputs": [],
   "source": [
    "def get_price_change_ratio_with_date(date):\n",
    "    (arr_date,arr_ratio) = get_price_change_ratio()\n",
    "    for i,d in enumerate(arr_date):\n",
    "        if d == date:\n",
    "            return arr_ratio[i]"
   ]
  },
  {
   "cell_type": "code",
   "execution_count": 3,
   "metadata": {},
   "outputs": [],
   "source": [
    "def get_price_change_ratio():\n",
    "    data_file = './News_stock_price/News_Stock_price.csv';\n",
    "    df = pd.read_csv(data_file)\n",
    "    arr_date = df['Date']\n",
    "    arr_price = df['After_price'] - df['Now_price']\n",
    "    arr_ratio = arr_price / df['Now_price'] * 100\n",
    "    return (arr_date,arr_ratio)"
   ]
  },
  {
   "cell_type": "markdown",
   "metadata": {},
   "source": [
    "### 從CSV檔取出新聞原文"
   ]
  },
  {
   "cell_type": "code",
   "execution_count": 4,
   "metadata": {},
   "outputs": [],
   "source": [
    "def get_news_with_date(date):\n",
    "    txt = ''\n",
    "    date = date.replace('-','_')\n",
    "    file_path = './ctee_TSMC/tmc_' + date + '.csv'\n",
    "    if os.path.isfile(file_path):\n",
    "        with open(file_path) as f:  \n",
    "            txt = f.readlines()[1:]\n",
    "    else:\n",
    "        print(file_path + ' does not exist.')\n",
    "    return txt"
   ]
  },
  {
   "cell_type": "markdown",
   "metadata": {},
   "source": [
    "### 從JSON檔取出標註詞彙"
   ]
  },
  {
   "cell_type": "code",
   "execution_count": 5,
   "metadata": {},
   "outputs": [],
   "source": [
    "def get_token_from_file(file_path):\n",
    "    arr_token = []\n",
    "    with open(file_path) as json_file:  \n",
    "        data = json.load(json_file)\n",
    "        for e in data['entities']:\n",
    "            text = e['offsets'][0]['text']\n",
    "            arr_token.append(text)\n",
    "    return arr_token"
   ]
  },
  {
   "cell_type": "code",
   "execution_count": 6,
   "metadata": {},
   "outputs": [],
   "source": [
    "def get_token_with_date(date):\n",
    "    date = date.replace('-','')\n",
    "    file_path = './NER_human_label/' + date + '.ann.json'\n",
    "    if os.path.isfile(file_path):\n",
    "        return get_token_from_file(file_path)\n",
    "    else:\n",
    "        return None"
   ]
  },
  {
   "cell_type": "code",
   "execution_count": 7,
   "metadata": {},
   "outputs": [],
   "source": [
    "def get_all_tokens():\n",
    "    all_tokens = []\n",
    "    data_path = './NER_human_label'\n",
    "    for file in os.listdir(data_path):\n",
    "        file_path = os.path.join(data_path, file)\n",
    "        if os.path.isfile(file_path):\n",
    "            tokens = get_token_from_file(file_path)\n",
    "            all_tokens = all_tokens + tokens\n",
    "    return all_tokens"
   ]
  },
  {
   "cell_type": "markdown",
   "metadata": {},
   "source": [
    "### 以股價漲跌閾值將新聞分群，取出標注詞"
   ]
  },
  {
   "cell_type": "code",
   "execution_count": 8,
   "metadata": {},
   "outputs": [],
   "source": [
    "def get_token_with_price_trend_threshold(trend,threshold):\n",
    "    arr_words = []\n",
    "    (arr_date,arr_ratio) = get_price_change_ratio()\n",
    "    if trend == 1:\n",
    "        for i,r in enumerate(arr_ratio):\n",
    "            if r >= threshold:\n",
    "                d = arr_date[i]\n",
    "                tokens = get_token_with_date(d)\n",
    "                if tokens != None:\n",
    "                    arr_words = arr_words + tokens\n",
    "    elif trend == 0:\n",
    "        for i,r in enumerate(arr_ratio):\n",
    "            if r <= threshold:\n",
    "                d = arr_date[i]\n",
    "                tokens = get_token_with_date(d)\n",
    "                if tokens != None:\n",
    "                    arr_words = arr_words + tokens\n",
    "    return arr_words"
   ]
  },
  {
   "cell_type": "markdown",
   "metadata": {},
   "source": [
    "### 觀察漲跌股價與新聞數量的關係"
   ]
  },
  {
   "cell_type": "code",
   "execution_count": 9,
   "metadata": {},
   "outputs": [
    {
     "data": {
      "image/png": "[encoded data removed]",
      "text/plain": [
       "<Figure size 432x288 with 1 Axes>"
      ]
     },
     "metadata": {
      "needs_background": "light"
     },
     "output_type": "display_data"
    }
   ],
   "source": [
    "%matplotlib inline\n",
    "(arr_date,arr_ratio) = get_price_change_ratio()\n",
    "plt.hist(arr_ratio)\n",
    "plt.xlabel('Raise/Fall percentage')\n",
    "plt.ylabel('number of news')\n",
    "plt.show()"
   ]
  },
  {
   "cell_type": "markdown",
   "metadata": {},
   "source": [
    "### 統計全部標注詞"
   ]
  },
  {
   "cell_type": "code",
   "execution_count": 10,
   "metadata": {},
   "outputs": [
    {
     "name": "stdout",
     "output_type": "stream",
     "text": [
      "共 502 字\n",
      "共 349 不重複的字\n"
     ]
    }
   ],
   "source": [
    "all_tokens = get_all_tokens()\n",
    "all_counter = Counter(all_tokens)\n",
    "print('共',len(all_tokens),'字')\n",
    "print('共',len(all_counter),'不重複的字')"
   ]
  },
  {
   "cell_type": "markdown",
   "metadata": {},
   "source": [
    "### 列出全部標註詞"
   ]
  },
  {
   "cell_type": "code",
   "execution_count": 11,
   "metadata": {},
   "outputs": [
    {
     "name": "stdout",
     "output_type": "stream",
     "text": [
      "['營收', '市值', 'ADR', '先進製程', '蘋果', '股價', '外資', '創新高', '成長', '創新', '產能', '法說會', '人工智慧', '新高', '創', '比特幣', '挖礦', '買超', '成長動能', '營運', '大漲', '歷史新高', '盤中', '量產', '匯率', '新廠', '手機晶片', '投入', '小跌', '獨吞', '訂單', '貼息', '開低', '上漲', '7奈米製程', '下滑', 'AI', '出貨', '億元', '填息', '美國科技股', '多頭', '攀高', '增加', '降評', '天價', '台股', '轉投資', '跳槽', '法人', '外資圈', '資本支出', '領先同業', '智慧型手機', '風險試產', '升破', '處理器', '季增', '造成影響', '毛利率', '台灣', 'A11', 'ASIC', '5G', '南京', '受惠', '成長率', '劉德音', '董事會', '資本預算', '建廠計畫', '大單到手', '超旺', '優化', '製程', '鰭式場效電晶體', 'FinFET', '進入量產', '繪圖晶片', '超級電腦晶片', '大單', '到位', '技術', '資金', '信評', '信用評等', '一等一', '標準普爾全球評級', '中華信評', '全球長期信評', 'A+', '本地評等', 'twAAA', '收復季線', '逆勢開高', '回到季線', '公布', '肥單', '下跌', '跌幅', '上周', '小漲', '召開法說會', '股價開高', '股價震盪走揚', '先買後賣', '行動裝置', '高速運算平台', 'A11處理器', '大量出貨', '10奈米製程', '出貨快速成長', '營收創新高', '預期', '成長趨勢', '脆弱時刻', '持續攀高', '改寫新高', '年過80', '接班問題', '手機市場', '成長減緩', '衝破', '台灣之光', '穩定成長', '景氣', '正向', '利多', '買盤簇擁', '突破', '下單量不減', '高檔水準', '歷史', '紀錄', '營收目標', '達陣', '拉長', '棄息賣壓', '收小黑', '外資賣超', '填息時間將拉長', '大盤短線指數', '震盪', '破紀錄', '開盤', '過高點', '訂單重回', '加速處理器', 'APU', '伺服器處理器', '繪圖處理器', 'GPU', '投片', '百大企業', '進榜', '增幅', '排名', '需求下滑', '晶片尺寸縮小', '競爭激烈', '調降', '投資評等', '目標價', '衝擊', '早盤股價', '下挫', '失守月線', '超越高標', '開高', '飆高', '創歷史新天價', '新紀錄', '攀新高', '小幅開高', '壓回', '欠缺', '精神指標', '通訊產品', '成長帶動', '走揚', '成長態勢', '上揚', '反壟斷調查', '平盤', '竊機密', '陸企', '使用營業祕密罪', '貢獻', '衝上', '明牌', '國際級表現', '未達標', '月增', '較去年同期', '現金股利', '營收季減', '試產', '強敵', '拿下', '設計定案', 'tape-out', '進入市場', '新台幣', '不利', '觀察重點', '挑戰', '單季營收', '第三高', '表現亮麗', '順利達標', '台幣升幅加大', '獲利', '不利因素', '新台幣兌美元', '大幅升值', '新台幣升值', '營業利益', '負面影響', '可能下滑', '根留台灣', '研發基地', '摩爾定律', 'iPhone 8', '急單湧入', '淡季', '滿載', '減少投片量', '搶光', 'BitCoin', '應用晶片', '急單', '增加投片量', '維持滿載', '淡季不淡', '科技股', '站穩', '產業革新', '大數據', 'AR/VR', '自駕車', '股價預估值', '調升', '看好', '典範移轉', '投資價值', 're-rating', '樂觀', '除息', '順利完成', '關卡', '樂觀看待', '營運展望', '旺季', '合併營收', '創同期新高', '符合市場預期', '達到', '原估區間', '放量產出', '有望', '蓋廠', '聯盟', '成立', '硬仗', '美元匯率', '大關', '影響', '營收表現', '趨升', '週年慶', '浦口經濟開發區', '地上權', '擴產計畫', '擴充產能', '價格', '狂飆', '虛擬貨幣', '需求', 'ASIC晶片', '分析師看好', '重要動能', '外資叫好', '上調', '財務預測', '呂家璈', '推測', '調高', '區塊鏈', '持股', '加持', '磁吸作用', '國際資金', '收盤新天價', '力挺', '法人說明會', '庫存調節', '下修', '優於', '市占率', '持續提升', '高效能運算', 'HPC', '共治', '退休', '雙首長制', '平行共治制度', '魏哲家', '觀望', '營收年增', '較去年同期增加', '升級', '擴充', '轉換', '年增', '半導體業', '不是', '成熟產業', '發展', '機會', 'AI概念股', '股東常會', '樂看', '表現', '激勵股價', '還原權值', '半導體族群', '市值創新高', '傳承', '市場給予支持', '整合扇出型晶圓級封裝', '營運模式', '賺錢模式', '供應鏈管理論壇', '投資計畫', '龐大市場', '動土興建', 'Bionic應用處理器', '出貨放量', '表現優於預期', '法人看好', '高標', '新晶圓廠', '落腳台灣', '台南園區', '台灣經濟發展', '投資台灣', '通過', '興建廠房', '啟動']\n"
     ]
    }
   ],
   "source": [
    "tokens_tuple = all_counter.most_common(500)\n",
    "all_unique_tokens = []\n",
    "for t in tokens_tuple:\n",
    "    all_unique_tokens.append(t[0])\n",
    "print(all_unique_tokens)"
   ]
  },
  {
   "cell_type": "markdown",
   "metadata": {},
   "source": [
    "### 篩出漲幅超過1%的新聞，取出前10名高頻詞"
   ]
  },
  {
   "cell_type": "code",
   "execution_count": 12,
   "metadata": {},
   "outputs": [
    {
     "name": "stdout",
     "output_type": "stream",
     "text": [
      "[('ADR', 7), ('市值', 4), ('營收', 4), ('創新高', 3), ('成長動能', 3), ('蘋果', 3), ('匯率', 3), ('創', 3), ('新高', 3), ('先進製程', 3)]\n"
     ]
    }
   ],
   "source": [
    "positive_tokens = get_token_with_price_trend_threshold(1,1)\n",
    "positive_counter = Counter(positive_tokens)\n",
    "positive_tokens_tuple = positive_counter.most_common(10)\n",
    "print(positive_tokens_tuple)"
   ]
  },
  {
   "cell_type": "markdown",
   "metadata": {},
   "source": [
    "### 篩出跌幅超過1%的新聞，取出前10名高頻詞"
   ]
  },
  {
   "cell_type": "code",
   "execution_count": 13,
   "metadata": {},
   "outputs": [
    {
     "name": "stdout",
     "output_type": "stream",
     "text": [
      "[('營收', 3), ('跳槽', 2), ('降評', 2), ('市值', 2), ('法說會', 1), ('外資圈', 1), ('7奈米製程', 1), ('現金股利', 1), ('資本支出', 1), ('營收季減', 1)]\n"
     ]
    }
   ],
   "source": [
    "negative_tokens = get_token_with_price_trend_threshold(0,-1)\n",
    "negative_counter = Counter(negative_tokens)\n",
    "negative_tokens_tuple = negative_counter.most_common(10)\n",
    "print(negative_tokens_tuple)"
   ]
  },
  {
   "cell_type": "markdown",
   "metadata": {},
   "source": [
    "### 觀察結果:\n",
    "- 兩方都出現的詞為：營收, 市值\n",
    "- 後勢為漲的詞為：'ADR', '創新高', '成長動能', '蘋果', '匯率', '先進製程'\n",
    "- 後勢為跌的詞為：'跳槽', '降評', '營收季減'"
   ]
  },
  {
   "cell_type": "markdown",
   "metadata": {},
   "source": [
    "# 經濟詞彙與股價漲跌之相關性驗證"
   ]
  },
  {
   "cell_type": "markdown",
   "metadata": {},
   "source": [
    "### 過濾出包含經濟詞彙的新聞 (以\"ADR\"為例)"
   ]
  },
  {
   "cell_type": "code",
   "execution_count": 14,
   "metadata": {},
   "outputs": [],
   "source": [
    "def get_sentences_from_file(file):\n",
    "    lines = []\n",
    "    if os.path.isfile(file):\n",
    "        with open(file_path) as f:\n",
    "            txt = f.readlines()[3:]\n",
    "            txt = ''.join(txt)\n",
    "            txt = txt.replace('\\n','。')\n",
    "            lines = txt.split('。')\n",
    "    return lines"
   ]
  },
  {
   "cell_type": "code",
   "execution_count": 15,
   "metadata": {},
   "outputs": [
    {
     "name": "stdout",
     "output_type": "stream",
     "text": [
      "共 12 篇新聞包含該經濟詞彙\n",
      "\n",
      "2019-03-14\n",
      "漲跌幅 2.01 %\n",
      "['台積電靠著ADR上漲及外資看好未來的營運，花旗環球證券調升台積電至300元，漲勢強勁'] \n",
      "\n",
      "2019-02-18\n",
      "漲跌幅 2.98 %\n",
      "['儘管上周五台積電（2330）突然調降財測，引發各界負面揣測，然台積電美國存託憑證（ADR）上周五收盤小漲0.08％收38.09美元，台股今（18）日開盤，台積電直接開高，力甩降財測利空，早盤高點來到230.5元，上漲1.54％'] \n",
      "\n",
      "2018-01-15\n",
      "漲跌幅 2.48 %\n",
      "['台積電ADR上周五小漲', '台積電ADR上周五收盤為41.19美元，上漲0.16美元或0.39%，折合台幣每股約243.84元'] \n",
      "\n",
      "2017-10-11\n",
      "漲跌幅 -0.28 %\n",
      "['台積電ADR周二再創歷史新高價'] \n",
      "\n",
      "2017-02-02\n",
      "漲跌幅 -0.09 %\n",
      "['台積電ADR在台股春節封關期間維持高檔，台積電(2330)董事長張忠謀在夏威夷跌倒並無大礙，台積電雞年開紅盤，股價開高2.5元為188元，延續台股於封關前的漲勢'] \n",
      "\n",
      "2019-02-20\n",
      "漲跌幅 0.63 %\n",
      "['19日美股早盤，台積電ADR上漲0.75％，至38.385美元，顯示投資人對台積新的股利政策反應正向'] \n",
      "\n",
      "2018-01-23\n",
      "漲跌幅 1.18 %\n",
      "['台積電ADR周一大漲3.83%，並再創收盤新天價'] \n",
      "\n",
      "2017-09-06\n",
      "漲跌幅 0.69 %\n",
      "['台積電尚未接獲通知，強調公司一向遵循法規，台積電ADR周三小跌0.99%，台積電今早開低1.5元，盤中回到平盤218元'] \n",
      "\n",
      "2017-05-04\n",
      "漲跌幅 1.39 %\n",
      "['美國科技股多頭氣盛，台積電ADR再攀新高價，台積電(2330)股價今早小幅開高，平了本周所創199元新高後壓回，也使得台股衝關萬點欠缺精神指標'] \n",
      "\n",
      "2017-09-29\n",
      "漲跌幅 0.91 %\n",
      "['台積電ADR周四小跌0.2美元，每股折合台幣約225元'] \n",
      "\n",
      "2017-07-04\n",
      "漲跌幅 3.24 %\n",
      "['台積電ADR 3日下跌0.08美元跌幅0.23%，約為每股新台幣212元'] \n",
      "\n",
      "2017-05-02\n",
      "漲跌幅 4.05 %\n",
      "['美國科技股多頭氣盛，台積電ADR創歷史新高，台積電(2330)跟進攀高，今早開盤198.5元直接過高點，盤中最高199元創下歷史新高，市值達5.16兆元新高'] \n",
      "\n"
     ]
    }
   ],
   "source": [
    "token = 'ADR'\n",
    "arr_dates = []\n",
    "arr_news = []\n",
    "data_path = './ctee_TSMC'\n",
    "for file in os.listdir(data_path):\n",
    "    file_path = os.path.join(data_path,file)\n",
    "    if not file.startswith('.') : \n",
    "        date = file_path.replace('./ctee_TSMC/tmc_','').replace('.csv','')\n",
    "        lines = get_sentences_from_file(file_path)\n",
    "        arr_sentences = []\n",
    "        for line in lines:\n",
    "            if token in line:\n",
    "                arr_sentences.append(line)\n",
    "        if len(arr_sentences) > 0:\n",
    "            arr_dates.append(date)\n",
    "            arr_news.append(arr_sentences)\n",
    "        \n",
    "print('共',len(arr_news),'篇新聞包含該經濟詞彙\\n')\n",
    "for i,n in enumerate(arr_news):\n",
    "    date = arr_dates[i]\n",
    "    date = date.replace('_','-')\n",
    "    price = get_price_change_ratio_with_date(date)\n",
    "    print(date)\n",
    "    print('漲跌幅',\"%.2f\" % price,'%')\n",
    "    print(n,'\\n')"
   ]
  },
  {
   "cell_type": "markdown",
   "metadata": {},
   "source": [
    "### 觀察結果\n",
    "- 5日後股價為漲(漲幅大於0)的，共有10篇新聞。其中，ADR上漲的有7篇，ADR下跌的有3篇，正確率(正相關性)為70%\n",
    "- 5日後股價漲幅大於1%的，共有7篇新聞。其中，ADR上漲的有6篇，ADR下跌的有1篇，正確率(正相關性)為86%\n",
    "- 反過來看，ADR上漲的新聞有8篇。其中，5日後股價上漲的有7篇，5日後股價下跌的有1篇，正確率(正相關性)為88%"
   ]
  },
  {
   "cell_type": "code",
   "execution_count": null,
   "metadata": {},
   "outputs": [],
   "source": []
  }
 ],
 "metadata": {
  "kernelspec": {
   "display_name": "Python 3",
   "language": "python",
   "name": "python3"
  },
  "language_info": {
   "codemirror_mode": {
    "name": "ipython",
    "version": 3
   },
   "file_extension": ".py",
   "mimetype": "text/x-python",
   "name": "python",
   "nbconvert_exporter": "python",
   "pygments_lexer": "ipython3",
   "version": "3.7.1"
  }
 },
 "nbformat": 4,
 "nbformat_minor": 2
}
